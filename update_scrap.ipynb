{
 "cells": [
  {
   "cell_type": "code",
   "execution_count": null,
   "metadata": {},
   "outputs": [],
   "source": [
    "\n",
    "from scraper import PopularPeriod, popular_movies_v2\n",
    "\n",
    "\n",
    "popular_movies_v2(PopularPeriod.Week)"
   ]
  },
  {
   "cell_type": "code",
   "execution_count": 13,
   "metadata": {},
   "outputs": [],
   "source": [
    "import logging\n",
    "from bs4 import BeautifulSoup\n",
    "import requests\n",
    "\n",
    "log = logging.getLogger()\n",
    "\n",
    "def popular_movies_v3(period: PopularPeriod, page: int = 1):\n",
    "    \"\"\"get popular movies from the popular page\"\"\"\n",
    "    log.info(f\"Getting popular movies for {period.value} (page {page})\")\n",
    "    url = f\"https://letterboxd.com/films/ajax/popular/{period.value}/page/{page}\"\n",
    "    r = requests.get(url)\n",
    "    soup = BeautifulSoup(r.text, \"html.parser\")\n",
    "\n",
    "    movies = list()\n",
    "    for movie in soup.select_one(\".poster-list\").findAll(\"div\"):\n",
    "        movieid = movie[\"data-film-slug\"]\n",
    "        movies.append(movieid)\n",
    "    return movies"
   ]
  },
  {
   "cell_type": "code",
   "execution_count": 14,
   "metadata": {},
   "outputs": [
    {
     "data": {
      "text/plain": [
       "['inside-out-2-2024',\n",
       " 'hit-man-2023',\n",
       " 'i-saw-the-tv-glow',\n",
       " 'inside-out-2015',\n",
       " 'challengers',\n",
       " 'furiosa-a-mad-max-saga',\n",
       " 'under-paris',\n",
       " 'godzilla-minus-one',\n",
       " 'bad-boys-ride-or-die',\n",
       " 'am-i-ok',\n",
       " 'the-fall-guy-2024',\n",
       " 'the-watchers-2024',\n",
       " 'when-evil-lurks',\n",
       " 'dune-part-two',\n",
       " 'mad-max-fury-road',\n",
       " 'civil-war-2024',\n",
       " 'love-lies-bleeding-2024',\n",
       " 'the-first-omen',\n",
       " 'the-hunger-games-the-ballad-of-songbirds-snakes',\n",
       " 'la-la-land',\n",
       " 'x-2022',\n",
       " 'monkey-man',\n",
       " 'maharaja-2024',\n",
       " 'brats-2024',\n",
       " 'ultraman-rising',\n",
       " 'bodies-bodies-bodies',\n",
       " 'anyone-but-you',\n",
       " 'kingdom-of-the-planet-of-the-apes',\n",
       " 'fight-club',\n",
       " 'get-out-2017',\n",
       " 'bottoms',\n",
       " 'the-iron-claw-2023',\n",
       " 'before-sunrise',\n",
       " 'late-night-with-the-devil',\n",
       " '10-things-i-hate-about-you',\n",
       " 'the-strangers-chapter-1',\n",
       " 'immaculate-2024',\n",
       " 'the-bikeriders',\n",
       " 'pearl-2022',\n",
       " 'if-2024',\n",
       " 'the-idea-of-you-2024',\n",
       " 'the-lord-of-the-rings-the-fellowship-of-the-ring',\n",
       " 'nope',\n",
       " 'lady-bird',\n",
       " 'i-used-to-be-funny',\n",
       " 'poor-things-2023',\n",
       " '500-days-of-summer',\n",
       " 'kill-bill-vol-1',\n",
       " 'barbie',\n",
       " 'parasite-2019',\n",
       " 'call-me-by-your-name',\n",
       " 'bones-and-all',\n",
       " 'saltburn',\n",
       " 'brokeback-mountain',\n",
       " 'gone-girl',\n",
       " 'perfect-days-2023',\n",
       " 'pretty-woman',\n",
       " 'dune-2021',\n",
       " 'madame-web',\n",
       " 'the-devil-wears-prada',\n",
       " 'good-will-hunting',\n",
       " 'interstellar',\n",
       " 'anatomy-of-a-fall',\n",
       " 'lisa-frankenstein',\n",
       " 'mean-girls',\n",
       " 'the-lord-of-the-rings-the-two-towers',\n",
       " 'whiplash-2014',\n",
       " 'eternal-sunshine-of-the-spotless-mind',\n",
       " 'the-lord-of-the-rings-the-return-of-the-king',\n",
       " 'pulp-fiction',\n",
       " 'but-im-a-cheerleader',\n",
       " 'past-lives']"
      ]
     },
     "execution_count": 14,
     "metadata": {},
     "output_type": "execute_result"
    }
   ],
   "source": [
    "\n",
    "popular_movies_v3(PopularPeriod.Week)"
   ]
  }
 ],
 "metadata": {
  "kernelspec": {
   "display_name": ".venv",
   "language": "python",
   "name": "python3"
  },
  "language_info": {
   "codemirror_mode": {
    "name": "ipython",
    "version": 3
   },
   "file_extension": ".py",
   "mimetype": "text/x-python",
   "name": "python",
   "nbconvert_exporter": "python",
   "pygments_lexer": "ipython3",
   "version": "3.12.3"
  }
 },
 "nbformat": 4,
 "nbformat_minor": 2
}
