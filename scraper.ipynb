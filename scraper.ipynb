{
  "cells": [
    {
      "cell_type": "code",
      "execution_count": 36,
      "metadata": {
        "id": "UbHs--A89H0t"
      },
      "outputs": [],
      "source": [
        "import requests\n",
        "from bs4 import BeautifulSoup\n",
        "from datetime import datetime\n",
        "\n",
        "LBXD_BASEURL = \"https://letterboxd.com/csi/film/{movie}/rating-histogram/\""
      ]
    },
    {
      "cell_type": "code",
      "execution_count": 173,
      "metadata": {
        "id": "2FD9M_009Rqm"
      },
      "outputs": [],
      "source": [
        "def score(movie):\n",
        "  url = LBXD_BASEURL.format(movie=movie)\n",
        "  resp = requests.get(url).content\n",
        "  soup = BeautifulSoup(resp)\n",
        "\n",
        "\n",
        "  \n",
        "  now = datetime.now()\n",
        "  try:\n",
        "    avg_str = soup.select_one(\".display-rating\")[\"title\"]\n",
        "  except TypeError:\n",
        "    metrics = compute_score(soup)\n",
        "    metrics[\"timestamp\"] = now\n",
        "    metrics[\"movie\"] = movie\n",
        "    return metrics\n",
        "  metrics =  clean_str(avg_str, now)\n",
        "  metrics[\"movie\"] = movie\n",
        "\n",
        "  return metrics\n",
        "\n",
        "def clean_str(s, timestamp):\n",
        "  toks = s.split(\" \")\n",
        "  rating = float(toks[3])\n",
        "  count = int(toks[6].split(\"\\xa0\")[0].replace(\",\", \"\"))\n",
        "  # datetime object containing current date and time\n",
        "  return {\"rating\": rating, \"count\": count, \"timestamp\": timestamp}"
      ]
    },
    {
      "cell_type": "code",
      "execution_count": 174,
      "metadata": {
        "id": "2ZtGFui1Evpc"
      },
      "outputs": [],
      "source": [
        "def guess_note(soup):\n",
        "  l = soup.select(\".rating-histogram\")\n",
        "  print(l)\n",
        "  pass\n",
        "  "
      ]
    },
    {
      "cell_type": "code",
      "execution_count": 175,
      "metadata": {
        "id": "1pJnwyC29lrF",
        "colab": {
          "base_uri": "https://localhost:8080/"
        },
        "outputId": "87d366bd-0e7d-48d3-8b41-5b618d497780"
      },
      "outputs": [
        {
          "output_type": "stream",
          "name": "stdout",
          "text": [
            "{'rating': 4.08, 'count': 222301, 'timestamp': datetime.datetime(2023, 2, 24, 22, 2, 32, 723213), 'movie': 'the-fabelmans'}\n"
          ]
        }
      ],
      "source": [
        "\n",
        "movie = \"the-fabelmans\"\n",
        "\n",
        "print(score(movie))\n",
        "#clean_str(\"Weighted average of 4.08 based on 222,119 ratings\")\n"
      ]
    },
    {
      "cell_type": "code",
      "source": [
        "#test with no note\n",
        "name = \"prison-a-domicile\"\n",
        "\n",
        "print(score(name))\n"
      ],
      "metadata": {
        "colab": {
          "base_uri": "https://localhost:8080/"
        },
        "id": "h2Z7iTwQK_ew",
        "outputId": "3d67dfb1-1a67-4712-8484-64d2d5f9b88b"
      },
      "execution_count": 176,
      "outputs": [
        {
          "output_type": "stream",
          "name": "stdout",
          "text": [
            "{'rating': 2.25, 'count': 6, 'timestamp': datetime.datetime(2023, 2, 24, 22, 4, 9, 807691), 'movie': 'prison-a-domicile'}\n"
          ]
        }
      ]
    },
    {
      "cell_type": "markdown",
      "source": [
        "Forecasting a note"
      ],
      "metadata": {
        "id": "s2eCw3TjSX-b"
      }
    },
    {
      "cell_type": "code",
      "source": [
        "def parse_stars(stars):\n",
        "\n",
        "  # early return for half star case\n",
        "  if stars == \"half-★\":\n",
        "    return 0.5\n",
        "  \n",
        "  def star_to_num(star):\n",
        "    if star == \"½\":\n",
        "      return 0.5\n",
        "    elif star == \"★\":\n",
        "      return 1\n",
        "    else:\n",
        "      print(f\"could not parse {star}\")\n",
        "      return None\n",
        "\n",
        "  \n",
        "  rating = sum(map(star_to_num, stars))\n",
        "  return rating\n",
        "\n",
        "def text_rating_to_num_rating(s):\n",
        "  \n",
        "  toks = s.split(\" \")\n",
        "  count = int(toks[0]) if toks[0] != \"No\" else 0\n",
        "  rating = parse_stars(toks[1])\n",
        "  return {\"rating\": rating, \"count\": count}\n",
        "\n",
        "\n",
        "tests = [\"3 ★★ ratings (50%)\", \"No half-★ ratings\", \"No ★★★★ ratings\"]\n",
        "expected = [{\"rating\": 2, \"count\":3}, {\"rating\":0.5, \"count\":0}, {\"rating\": 4, \"count\": 0}]\n",
        "for t, e in zip(tests, expected):\n",
        "  print(t)\n",
        "  print(e)\n",
        "  assert text_rating_to_num_rating(t) == e"
      ],
      "metadata": {
        "colab": {
          "base_uri": "https://localhost:8080/"
        },
        "id": "t_d3aU_ETv4u",
        "outputId": "f44e5419-81e5-45c8-8ab0-584946249ca6"
      },
      "execution_count": 116,
      "outputs": [
        {
          "output_type": "stream",
          "name": "stdout",
          "text": [
            "3 ★★ ratings (50%)\n",
            "{'rating': 2, 'count': 3}\n",
            "No half-★ ratings\n",
            "{'rating': 0.5, 'count': 0}\n",
            "No ★★★★ ratings\n",
            "{'rating': 4, 'count': 0}\n"
          ]
        }
      ]
    },
    {
      "cell_type": "code",
      "source": [
        "r = \"\"\"<section class=\"section ratings-histogram-chart\"> <h2 class=\"section-heading\"><a href=\"/film/prison-a-domicile/ratings/\" class=\"tooltip\" title=\"Not enough ratings to calculate average\">Ratings</a></h2> <div class=\"rating-histogram clear rating-histogram-exploded\"> <span class=\"rating-green rating-green-tiny rating-1\"><span class=\"rating rated-2\">★</span></span> <ul> <li class=\"rating-histogram-bar tooltip\" style=\"width: 15px; left: 0px\" title=\"No half-★ ratings\"><i style=\"height: 1px\"></i></li> <li class=\"rating-histogram-bar tooltip\" style=\"width: 15px; left: 16px\" title=\"No ★ ratings\"><i style=\"height: 1px\"></i></li> <li class=\"rating-histogram-bar\" style=\"width: 15px; left: 32px\"> <a href=\"/film/prison-a-domicile/ratings/rated/1%C2%BD/by/rating/\" class=\"ir tooltip\" title=\"1&nbsp;★½ rating (17%)\">1&nbsp;★½ rating (17%)<i style=\"height: 15.333333333333332px;\"></i></a> </li> <li class=\"rating-histogram-bar\" style=\"width: 15px; left: 48px\"> <a href=\"/film/prison-a-domicile/ratings/rated/2/by/rating/\" class=\"ir tooltip\" title=\"3&nbsp;★★ ratings (50%)\">3&nbsp;★★ ratings (50%)<i style=\"height: 44.0px;\"></i></a> </li> <li class=\"rating-histogram-bar\" style=\"width: 15px; left: 64px\"> <a href=\"/film/prison-a-domicile/ratings/rated/2%C2%BD/by/rating/\" class=\"ir tooltip\" title=\"1&nbsp;★★½ rating (17%)\">1&nbsp;★★½ rating (17%)<i style=\"height: 15.333333333333332px;\"></i></a> </li> <li class=\"rating-histogram-bar tooltip\" style=\"width: 15px; left: 80px\" title=\"No ★★★ ratings\"><i style=\"height: 1px\"></i></li> <li class=\"rating-histogram-bar\" style=\"width: 15px; left: 96px\"> <a href=\"/film/prison-a-domicile/ratings/rated/3%C2%BD/by/rating/\" class=\"ir tooltip\" title=\"1&nbsp;★★★½ rating (17%)\">1&nbsp;★★★½ rating (17%)<i style=\"height: 15.333333333333332px;\"></i></a> </li> <li class=\"rating-histogram-bar tooltip\" style=\"width: 15px; left: 112px\" title=\"No ★★★★ ratings\"><i style=\"height: 1px\"></i></li> <li class=\"rating-histogram-bar tooltip\" style=\"width: 15px; left: 128px\" title=\"No ★★★★½ ratings\"><i style=\"height: 1px\"></i></li> <li class=\"rating-histogram-bar tooltip\" style=\"width: 15px; left: 144px\" title=\"No ★★★★★ ratings\"><i style=\"height: 1px\"></i></li> </ul> <span class=\"rating-green rating-green-tiny rating-5\"><span class=\"rating rated-10\">★★★★★</span></span> </div> </section>\"\"\"\n",
        "\n",
        "soup = BeautifulSoup(r)\n",
        "\n",
        "def compute_score(soup):\n",
        "  score = 0.0\n",
        "  counts = 0\n",
        "\n",
        "  for star_idx, li in enumerate(soup.select_one(\".rating-histogram ul\").findAll(\"li\")):\n",
        "    rating = (star_idx) / 2.0 + 0.5\n",
        "    if li.text.strip() == \"\":\n",
        "      count = 0\n",
        "    else:\n",
        "      tok = int(li.text.split(\"\\xa0\")[0])\n",
        "      count = tok\n",
        "    #print(f\"{rating}: {count}\")\n",
        "    score += rating*count\n",
        "    counts += count\n",
        "  return {\"rating\": score / counts, \"count\": counts}\n",
        "\n",
        "print(compute_score(soup))"
      ],
      "metadata": {
        "colab": {
          "base_uri": "https://localhost:8080/"
        },
        "id": "IuS6eSz-SZ8P",
        "outputId": "38092751-ac9e-4947-d3e1-bcd279bb59de"
      },
      "execution_count": 177,
      "outputs": [
        {
          "output_type": "stream",
          "name": "stdout",
          "text": [
            "{'rating': 2.25, 'count': 6}\n"
          ]
        }
      ]
    },
    {
      "cell_type": "code",
      "source": [
        "import time\n",
        "def popular_movies():\n",
        "  r = requests.get(\"https://letterboxd.com\").text\n",
        "  soup = BeautifulSoup(r)\n",
        "  movies = list()\n",
        "  for movie in soup.select_one(\".-p150\").findAll(\"li\"):\n",
        "    movieid = movie[\"data-film-slug\"][6:-1] # move from /film/bienvenue/ to bienvenue\n",
        "    movies.append(movieid)\n",
        "  return movies\n",
        "    \n",
        "\n",
        "for movie in popular_movies():\n",
        "  print(f\"{movie} : {score(movie)}\")\n",
        "  time.sleep(1)"
      ],
      "metadata": {
        "colab": {
          "base_uri": "https://localhost:8080/"
        },
        "id": "lL1ZjwNgdsgk",
        "outputId": "06e81244-0451-4859-ec78-e65ce68ad971"
      },
      "execution_count": 199,
      "outputs": [
        {
          "output_type": "stream",
          "name": "stdout",
          "text": [
            "the-quiet-girl : {'rating': 4.0, 'count': 17877, 'timestamp': datetime.datetime(2023, 2, 24, 22, 17, 46, 254098), 'movie': 'the-quiet-girl'}\n",
            "inside-2023 : {'rating': 3.32, 'count': 294, 'timestamp': datetime.datetime(2023, 2, 24, 22, 17, 47, 344525), 'movie': 'inside-2023'}\n",
            "of-an-age : {'rating': 3.75, 'count': 2699, 'timestamp': datetime.datetime(2023, 2, 24, 22, 17, 48, 440147), 'movie': 'of-an-age'}\n",
            "gods-time : {'rating': 3.47, 'count': 192, 'timestamp': datetime.datetime(2023, 2, 24, 22, 17, 49, 531422), 'movie': 'gods-time'}\n",
            "m3gan : {'rating': 3.12, 'count': 261843, 'timestamp': datetime.datetime(2023, 2, 24, 22, 17, 50, 626994), 'movie': 'm3gan'}\n",
            "infinity-pool : {'rating': 3.31, 'count': 86167, 'timestamp': datetime.datetime(2023, 2, 24, 22, 17, 51, 716937), 'movie': 'infinity-pool'}\n"
          ]
        }
      ]
    }
  ],
  "metadata": {
    "colab": {
      "provenance": []
    },
    "kernelspec": {
      "display_name": "Python 3",
      "name": "python3"
    },
    "language_info": {
      "name": "python"
    }
  },
  "nbformat": 4,
  "nbformat_minor": 0
}